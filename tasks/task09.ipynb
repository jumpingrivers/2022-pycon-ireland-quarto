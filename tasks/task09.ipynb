{
 "cells": [
  {
   "cell_type": "raw",
   "id": "acd789f4",
   "metadata": {},
   "source": [
    "---\n",
    "title: \"A report on penguins\"\n",
    "author: \"Me\"\n",
    "format: html\n",
    "execute:\n",
    "    eval: true\n",
    "---"
   ]
  },
  {
   "cell_type": "markdown",
   "id": "574c5348",
   "metadata": {},
   "source": [
    "## Background"
   ]
  },
  {
   "cell_type": "markdown",
   "id": "dd6ce82d",
   "metadata": {},
   "source": [
    "The **Adélie penguin (*Pygoscelis adeliae*)** 🐧 is a species of \n",
    "[penguin](https://en.wikipedia.org/wiki/Penguin) common along the entire coast of \n",
    "the [Antarctic](https://en.wikipedia.org/wiki/Antarctic) continent, which is the only place where it is found."
   ]
  },
  {
   "cell_type": "markdown",
   "id": "ef9b3a1e",
   "metadata": {},
   "source": [
    "## Analysis"
   ]
  },
  {
   "cell_type": "markdown",
   "id": "be7231f7",
   "metadata": {},
   "source": [
    "Here is a data set containing information of Adelie and other species of penguin across 2007, 2008 and 2009."
   ]
  },
  {
   "cell_type": "code",
   "execution_count": null,
   "id": "8c0c23e6",
   "metadata": {},
   "outputs": [],
   "source": [
    "# | echo: false\n",
    "import pandas as pd"
   ]
  },
  {
   "cell_type": "code",
   "execution_count": null,
   "id": "1de7155d",
   "metadata": {},
   "outputs": [],
   "source": [
    "# | echo: fenced\n",
    "# | code-fold: true\n",
    "# | warning: false\n",
    "penguins = pd.read_csv(\n",
    "    \"https://raw.githubusercontent.com/rfordatascience/tidytuesday/master/data/2020/2020-07-28/penguins.csv\"\n",
    ")\n",
    "penguins"
   ]
  },
  {
   "cell_type": "code",
   "execution_count": null,
   "id": "161045ce",
   "metadata": {},
   "outputs": [],
   "source": [
    "# | echo: false\n",
    "# calculate the average bill length per species\n",
    "avg_bill_length = penguins.groupby(\"species\")[\"bill_length_mm\"].mean()"
   ]
  },
  {
   "cell_type": "code",
   "execution_count": null,
   "id": "0274ebba",
   "metadata": {},
   "outputs": [],
   "source": [
    "# | echo: false\n",
    "from IPython.display import display, Markdown\n",
    "# Add a sentence here giving the average bill length of Adelie penguins\n"
   ]
  }
 ],
 "metadata": {
  "kernelspec": {
   "display_name": "Python 3.8.10 64-bit",
   "language": "python",
   "name": "python3"
  },
  "language_info": {
   "codemirror_mode": {
    "name": "ipython",
    "version": 3
   },
   "file_extension": ".py",
   "mimetype": "text/x-python",
   "name": "python",
   "nbconvert_exporter": "python",
   "pygments_lexer": "ipython3",
   "version": "3.8.10"
  },
  "vscode": {
   "interpreter": {
    "hash": "e7370f93d1d0cde622a1f8e1c04877d8463912d04d973331ad4851f04de6915a"
   }
  }
 },
 "nbformat": 4,
 "nbformat_minor": 5
}
